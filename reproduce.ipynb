{
 "cells": [
  {
   "cell_type": "code",
   "execution_count": 3,
   "metadata": {},
   "outputs": [],
   "source": [
    "import torch\n",
    "import numpy as np\n",
    "from sklearn.metrics import pairwise\n",
    "\n",
    "from src.data import Dataset\n",
    "from src.utils import masking, compute_accuracy\n",
    "\n",
    "from layers import GCN, Classifier\n",
    "from models.GraFN import GraFN"
   ]
  },
  {
   "cell_type": "markdown",
   "metadata": {},
   "source": [
    "We attach this notebook files to demonstrate reproducibility of our model.  \n",
    "**config model** function loads our model **GraFN**  \n",
    "and **evaluate_node_classification** function loads the trained weight on given labeled ratio and evaluate node classification performance.  \n",
    "This evaluation protocol is same with experiments on our paper."
   ]
  },
  {
   "cell_type": "code",
   "execution_count": 4,
   "metadata": {},
   "outputs": [],
   "source": [
    "def config_model(data, device=0):\n",
    "    input_size = data.x.size(1)\n",
    "    layers = [input_size, 128, 128]\n",
    "\n",
    "    unique_labels = data.y.unique()\n",
    "    num_classes = len(unique_labels)\n",
    "\n",
    "    encoder = GCN(layers)\n",
    "    classifier = Classifier(128, num_classes)\n",
    "\n",
    "    model = GraFN(encoder=encoder, classifier=classifier, unique_labels=unique_labels, device=device) \n",
    "    \n",
    "    return model"
   ]
  },
  {
   "cell_type": "code",
   "execution_count": 5,
   "metadata": {},
   "outputs": [],
   "source": [
    "def evaluate_node_classification(name, label_rate, folds=20):\n",
    "    \n",
    "    data = Dataset(root='data', dataset=name)[0]\n",
    "    val_accs = [] ; test_accs = []\n",
    "    for fold in range(folds):\n",
    "        train_mask, val_mask, test_mask = masking(fold, data, label_rate)\n",
    "        \n",
    "        weight_path = f'./weights/{name}_{label_rate}.pt'\n",
    "        weight_list = torch.load(weight_path)\n",
    "        weight = weight_list[fold]\n",
    "\n",
    "        model = config_model(data)\n",
    "        model.load_state_dict(weight)\n",
    "\n",
    "        model.eval()\n",
    "        _, preds = model.cls(data)\n",
    "        \n",
    "        _ , val_acc, test_acc = compute_accuracy(preds, data.y, train_mask, val_mask, test_mask)\n",
    "        val_accs.append(val_acc) ; test_accs.append(test_acc)\n",
    "\n",
    "    val_acc_mean = torch.tensor(val_accs).mean().item()\n",
    "    test_acc_mean = torch.tensor(test_accs).mean().item()\n",
    "    print(\"{} label rate : {} --> valid acc : {:.2f} / test acc : {:.2f}\".format(name, label_rate, val_acc_mean, test_acc_mean))\n",
    "    "
   ]
  },
  {
   "cell_type": "markdown",
   "metadata": {},
   "source": [
    "# Node Classification"
   ]
  },
  {
   "cell_type": "markdown",
   "metadata": {},
   "source": [
    "Because of the unavoidable randomness, below performance is not exactly same with **table 1**.  \n",
    "However, you can check that it's enough to demonstrate the reproducibility of our model **GraFN**. "
   ]
  },
  {
   "cell_type": "code",
   "execution_count": 6,
   "metadata": {},
   "outputs": [
    {
     "name": "stdout",
     "output_type": "stream",
     "text": [
      "computers label rate : 0.15 --> valid acc : 72.38 / test acc : 71.87\n",
      "computers label rate : 0.2 --> valid acc : 75.07 / test acc : 74.80\n",
      "computers label rate : 0.25 --> valid acc : 78.52 / test acc : 77.53\n"
     ]
    }
   ],
   "source": [
    "evaluate_node_classification('computers', label_rate=0.15)\n",
    "evaluate_node_classification('computers', label_rate=0.2)\n",
    "evaluate_node_classification('computers', label_rate=0.25)"
   ]
  },
  {
   "cell_type": "code",
   "execution_count": 7,
   "metadata": {},
   "outputs": [
    {
     "name": "stdout",
     "output_type": "stream",
     "text": [
      "photo label rate : 0.15 --> valid acc : 79.55 / test acc : 79.50\n",
      "photo label rate : 0.2 --> valid acc : 82.46 / test acc : 81.36\n",
      "photo label rate : 0.25 --> valid acc : 85.49 / test acc : 85.54\n"
     ]
    }
   ],
   "source": [
    "evaluate_node_classification('photo', label_rate=0.15)\n",
    "evaluate_node_classification('photo', label_rate=0.2)\n",
    "evaluate_node_classification('photo', label_rate=0.25)"
   ]
  },
  {
   "cell_type": "code",
   "execution_count": 8,
   "metadata": {},
   "outputs": [
    {
     "name": "stdout",
     "output_type": "stream",
     "text": [
      "cora label rate : 0.5 --> valid acc : 66.99 / test acc : 66.18\n",
      "cora label rate : 1.0 --> valid acc : 73.71 / test acc : 72.47\n",
      "cora label rate : 2.0 --> valid acc : 78.47 / test acc : 77.21\n"
     ]
    }
   ],
   "source": [
    "evaluate_node_classification('cora', label_rate=0.5)\n",
    "evaluate_node_classification('cora', label_rate=1.0)\n",
    "evaluate_node_classification('cora', label_rate=2.0)"
   ]
  },
  {
   "cell_type": "code",
   "execution_count": 9,
   "metadata": {},
   "outputs": [
    {
     "name": "stdout",
     "output_type": "stream",
     "text": [
      "citeseer label rate : 0.5 --> valid acc : 58.37 / test acc : 57.25\n",
      "citeseer label rate : 1.0 --> valid acc : 66.87 / test acc : 66.42\n",
      "citeseer label rate : 2.0 --> valid acc : 70.74 / test acc : 69.85\n"
     ]
    }
   ],
   "source": [
    "evaluate_node_classification('citeseer', label_rate=0.5)\n",
    "evaluate_node_classification('citeseer', label_rate=1.0)\n",
    "evaluate_node_classification('citeseer', label_rate=2.0)\n"
   ]
  },
  {
   "cell_type": "code",
   "execution_count": 10,
   "metadata": {},
   "outputs": [
    {
     "name": "stdout",
     "output_type": "stream",
     "text": [
      "pubmed label rate : 0.03 --> valid acc : 66.78 / test acc : 66.14\n",
      "pubmed label rate : 0.06 --> valid acc : 70.09 / test acc : 69.36\n",
      "pubmed label rate : 0.1 --> valid acc : 76.00 / test acc : 75.55\n"
     ]
    }
   ],
   "source": [
    "evaluate_node_classification('pubmed', label_rate=0.03)\n",
    "evaluate_node_classification('pubmed', label_rate=0.06)\n",
    "evaluate_node_classification('pubmed', label_rate=0.1)"
   ]
  }
 ],
 "metadata": {
  "interpreter": {
   "hash": "264e72115c788ad98d98c990637ec29a4f0c2a779475aba31abd177e563b796d"
  },
  "kernelspec": {
   "display_name": "Python 3.9.7 ('pyg2')",
   "language": "python",
   "name": "python3"
  },
  "language_info": {
   "codemirror_mode": {
    "name": "ipython",
    "version": 3
   },
   "file_extension": ".py",
   "mimetype": "text/x-python",
   "name": "python",
   "nbconvert_exporter": "python",
   "pygments_lexer": "ipython3",
   "version": "3.9.7"
  },
  "orig_nbformat": 4
 },
 "nbformat": 4,
 "nbformat_minor": 2
}
